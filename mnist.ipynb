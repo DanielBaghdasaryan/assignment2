{
 "cells": [
  {
   "cell_type": "code",
   "execution_count": 1,
   "metadata": {
    "collapsed": false
   },
   "outputs": [
    {
     "name": "stderr",
     "output_type": "stream",
     "text": [
      "/usr/local/lib/python2.7/dist-packages/sklearn/cross_validation.py:44: DeprecationWarning: This module was deprecated in version 0.18 in favor of the model_selection module into which all the refactored classes and functions are moved. Also note that the interface of the new CV iterators are different from that of this module. This module will be removed in 0.20.\n",
      "  \"This module will be removed in 0.20.\", DeprecationWarning)\n"
     ]
    },
    {
     "name": "stdout",
     "output_type": "stream",
     "text": [
      "true\tpredict\n",
      "0\t0\n",
      "9\t9\n",
      "6\t6\n",
      "2\t2\n",
      "1\t1\n",
      "3\t3\n",
      "9\t9\n",
      "5\t5\n",
      "4\t4\n",
      "5\t5\n",
      "0\t0\n",
      "3\t3\n",
      "7\t7\n",
      "1\t1\n",
      "7\t7\n",
      "1\t1\n",
      "0\t0\n",
      "1\t8\n",
      "9\t9\n",
      "Error: 3.11111111111%\n"
     ]
    }
   ],
   "source": [
    "from neural_network import NeuralNetwork\n",
    "from runner import vectorize\n",
    "from runner import test\n",
    "from sklearn.datasets import load_digits\n",
    "from sklearn.cross_validation import train_test_split\n",
    "\n",
    "#Load and prepare data\n",
    "mnist = load_digits(10)\n",
    "X = mnist.data/16 #16 is the max value in data\n",
    "y = mnist.target\n",
    "Y=vectorize(y) # e.g. transfer 4 to [0,0,0,0,1,0,0,0,0,0]\n",
    "X_train,X_test,Y_train,Y_test = train_test_split(X,Y)\n",
    "\n",
    "\n",
    "#Create, train and test neuron network\n",
    "\n",
    "NET=[30,20,10] # netwok design: neurons per layer list\n",
    "\n",
    "one_layer_network = NeuralNetwork(64,NET)\n",
    "\n",
    "one_layer_network.train(X_train,Y_train, max_iter=60)\n",
    "\n",
    "test(one_layer_network,X_test,Y_test)"
   ]
  },
  {
   "cell_type": "code",
   "execution_count": null,
   "metadata": {
    "collapsed": true
   },
   "outputs": [],
   "source": []
  }
 ],
 "metadata": {
  "kernelspec": {
   "display_name": "Python 2",
   "language": "python",
   "name": "python2"
  },
  "language_info": {
   "codemirror_mode": {
    "name": "ipython",
    "version": 2
   },
   "file_extension": ".py",
   "mimetype": "text/x-python",
   "name": "python",
   "nbconvert_exporter": "python",
   "pygments_lexer": "ipython2",
   "version": "2.7.13"
  }
 },
 "nbformat": 4,
 "nbformat_minor": 0
}
